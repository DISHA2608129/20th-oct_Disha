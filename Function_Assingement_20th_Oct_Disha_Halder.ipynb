{
  "nbformat": 4,
  "nbformat_minor": 0,
  "metadata": {
    "colab": {
      "provenance": []
    },
    "kernelspec": {
      "name": "python3",
      "display_name": "Python 3"
    },
    "language_info": {
      "name": "python"
    }
  },
  "cells": [
    {
      "cell_type": "markdown",
      "source": [
        "1. What is the difference between a function and a method in Python?\n",
        "\n"
      ],
      "metadata": {
        "id": "AINOEm5y9UP4"
      }
    },
    {
      "cell_type": "markdown",
      "source": [
        "In Python, both terms \"function\" and \"method\" are used interchangeably, but they refer to distinct concepts. Here's their differences has been illustrated.\n",
        "\n",
        "Function\n",
        "Definition: A function is a standalone code block which performs a specific task. Functions can take inputs, called parameters, and return an output.\n",
        "Scope: Functions are defined at the module level and are not tied to  class or object.\n",
        "Syntax: Functions are defined using the defined keyword."
      ],
      "metadata": {
        "id": "xhB7MPVp9Yc0"
      }
    },
    {
      "cell_type": "code",
      "source": [
        "def add(c, q):\n",
        "    \"\"\"Returns the sum of two numbers.\"\"\"\n",
        "    return c + q\n",
        "\n",
        "# Calling the function\n",
        "result = add(30, 40)\n",
        "print(result)  # Output: 70\n"
      ],
      "metadata": {
        "colab": {
          "base_uri": "https://localhost:8080/"
        },
        "id": "JU9BFQQ394Gc",
        "outputId": "b4944bca-5d36-40e3-c346-cfb9a5ec01b6"
      },
      "execution_count": 2,
      "outputs": [
        {
          "output_type": "stream",
          "name": "stdout",
          "text": [
            "70\n"
          ]
        }
      ]
    },
    {
      "cell_type": "markdown",
      "source": [
        "Method:\n",
        "Definition: A method is quite similar to a function, but it is associated with an object or class. Methods can operate on the data contained in the object (instance variables).\n",
        "Scope: Methods are defined within a class and can access the instance and class variables.\n",
        "Syntax: Methods are also defined using the def keyword, but they must be inside a class definition."
      ],
      "metadata": {
        "id": "Ua64oRPg-KDY"
      }
    },
    {
      "cell_type": "code",
      "source": [
        "class Calculator:\n",
        "    def __init__(self):\n",
        "        \"\"\"Initializes the calculator.\"\"\"\n",
        "        pass\n",
        "\n",
        "    def multiply(self, c, d):\n",
        "        \"\"\"Returns the product of two numbers.\"\"\"\n",
        "        return c * d\n",
        "\n",
        "# Creating an instance of Calculator\n",
        "calc = Calculator()\n",
        "\n",
        "# Calling the method\n",
        "result = calc.multiply(9, 10)\n",
        "print(result)  # Output: 90\n"
      ],
      "metadata": {
        "colab": {
          "base_uri": "https://localhost:8080/"
        },
        "id": "xFaRaSnH-TUg",
        "outputId": "307b8c59-3603-4d32-bc56-08b3158fa2b3"
      },
      "execution_count": 3,
      "outputs": [
        {
          "output_type": "stream",
          "name": "stdout",
          "text": [
            "90\n"
          ]
        }
      ]
    },
    {
      "cell_type": "markdown",
      "source": [
        "2. Explain the concept of function arguments and parameters in Python."
      ],
      "metadata": {
        "id": "PyFMB2YI-e21"
      }
    },
    {
      "cell_type": "markdown",
      "source": [
        "In Python, parameters and function arguments are essential concepts that allow functions to accept inputs.\n",
        "\n",
        "Parameters\n",
        "Definition: Parameters are the variables listed in the definition of function. They act as placeholders for the values that will be passed to the function when it is called.\n",
        "Purpose: They define which inputs the function can accept."
      ],
      "metadata": {
        "id": "EVlijVUG-rXK"
      }
    },
    {
      "cell_type": "code",
      "source": [
        "def greet(name):  # 'name' is a parameter\n",
        "    \"\"\"Greets a person by their name.\"\"\"\n",
        "    print(f\"Hello, {name}!\")\n",
        "\n",
        "# Calling the function with an argument\n",
        "greet(\"World\")  # Output: Hello, World!\n"
      ],
      "metadata": {
        "colab": {
          "base_uri": "https://localhost:8080/"
        },
        "id": "QVCi9CDM--zm",
        "outputId": "ce27e561-9f40-4ca5-af86-37869e9aaedd"
      },
      "execution_count": 4,
      "outputs": [
        {
          "output_type": "stream",
          "name": "stdout",
          "text": [
            "Hello, World!\n"
          ]
        }
      ]
    },
    {
      "cell_type": "markdown",
      "source": [
        "Arguments\n",
        "Definition: Arguments are the real values that are passed to the function when it is called. They correspond to the parameters defined within the function.\n",
        "\n",
        "Types of Arguments: There are several types of arguments you can pass to a function:\n",
        "\n",
        "Keyword Arguments: Arguments that are passed by explicitly stating the parameter name and its corresponding value.\n",
        "Default Arguments: Parameters that have a default value specified in the function definition.\n",
        "Positional Arguments: Arguments that are passed in the same order as  parameters in the function definition.\n",
        "Variable-length Arguments: Allow passing a variable arguments number to a function."
      ],
      "metadata": {
        "id": "n70mnXVu_N6M"
      }
    },
    {
      "cell_type": "code",
      "source": [
        "def add(c, d):  # Parameters 'c' and 'd'\n",
        "    \"\"\"Returns the sum of two numbers.\"\"\"\n",
        "    return c + d\n",
        "\n",
        "# Calling with positional arguments\n",
        "result = add(50, 33)  # Arguments 50 and 33\n",
        "print(result)  # Output: 83\n"
      ],
      "metadata": {
        "colab": {
          "base_uri": "https://localhost:8080/"
        },
        "id": "hDXYrNW8_dUA",
        "outputId": "c59e2f46-3149-471c-bea0-5b0fd9c60b87"
      },
      "execution_count": 5,
      "outputs": [
        {
          "output_type": "stream",
          "name": "stdout",
          "text": [
            "83\n"
          ]
        }
      ]
    },
    {
      "cell_type": "markdown",
      "source": [
        "3. What are the different ways to define and call a function in Python?"
      ],
      "metadata": {
        "id": "L1KF94cK_5IR"
      }
    },
    {
      "cell_type": "markdown",
      "source": [
        "Basic Function Definition and Call\n",
        "One can define a simple function using the def keyword and call it by its name"
      ],
      "metadata": {
        "id": "a8rYs0Q8AGyg"
      }
    },
    {
      "cell_type": "code",
      "source": [
        "def say_hello():\n",
        "    \"\"\"Prints a greeting.\"\"\"\n",
        "    print(\"Beautiful, women!\")\n",
        "\n",
        "# Calling the function\n",
        "say_hello()  # Output: Beautiful;, women!\n"
      ],
      "metadata": {
        "colab": {
          "base_uri": "https://localhost:8080/"
        },
        "id": "vj8KfMSTAN1P",
        "outputId": "df4109a7-7550-436f-a7de-f78329770afd"
      },
      "execution_count": 6,
      "outputs": [
        {
          "output_type": "stream",
          "name": "stdout",
          "text": [
            "Beautiful, women!\n"
          ]
        }
      ]
    },
    {
      "cell_type": "code",
      "source": [
        "#funcation with parameters >>> it can accept parameters, allowing one to pass values into them when calling.\n",
        "def greet(name):\n",
        "    \"\"\"Greets a person by their name.\"\"\"\n",
        "    print(f\"Hello, {name}!\")\n",
        "\n",
        "# Calling the function with an argument\n",
        "greet(\"Disha\")  # Output: Hello, Disha!\n"
      ],
      "metadata": {
        "colab": {
          "base_uri": "https://localhost:8080/"
        },
        "id": "GxiN6wsyAasz",
        "outputId": "97c52dd8-0c98-4dae-e59d-fc7af2a9ae2f"
      },
      "execution_count": 7,
      "outputs": [
        {
          "output_type": "stream",
          "name": "stdout",
          "text": [
            "Hello, Disha!\n"
          ]
        }
      ]
    },
    {
      "cell_type": "code",
      "source": [
        "#Function with Return Value >>>> Functions value can be return values using the return statement.\n",
        "def add(a, b):\n",
        "    \"\"\"Returns the sum of two numbers.\"\"\"\n",
        "    return a + b\n",
        "\n",
        "# Calling the function and storing the result\n",
        "result = add(10, 11)\n",
        "print(result)  # Output: 21\n"
      ],
      "metadata": {
        "colab": {
          "base_uri": "https://localhost:8080/"
        },
        "id": "DGoRvWXuAawv",
        "outputId": "7b6eb99c-daea-4acc-cad9-cb2aa731736e"
      },
      "execution_count": 8,
      "outputs": [
        {
          "output_type": "stream",
          "name": "stdout",
          "text": [
            "21\n"
          ]
        }
      ]
    },
    {
      "cell_type": "code",
      "source": [
        "#defined parameters >>> One can define default values for parameters. If the caller does not provide a value, the default will be used.\n",
        "def greet(name, greeting=\"Hello\"):\n",
        "    \"\"\"Greets a person with a default greeting.\"\"\"\n",
        "    print(f\"{greeting}, {name}!\")\n",
        "\n",
        "# Calling with default parameter\n",
        "greet(\"Man\")  # Output: Hello, Man!\n",
        "# Calling with custom parameter\n",
        "greet(\"Disha\", \"Hi\")  # Output: Hi, Disha!\n"
      ],
      "metadata": {
        "colab": {
          "base_uri": "https://localhost:8080/"
        },
        "id": "-lRz6-NNA9F8",
        "outputId": "187e9c67-ac51-4701-cfed-4c85b4d986e9"
      },
      "execution_count": 9,
      "outputs": [
        {
          "output_type": "stream",
          "name": "stdout",
          "text": [
            "Hello, Man!\n",
            "Hi, Disha!\n"
          ]
        }
      ]
    },
    {
      "cell_type": "markdown",
      "source": [
        "4. What is the purpose of the return statement in a Python function?\n"
      ],
      "metadata": {
        "id": "eTxjxlzOBhdH"
      }
    },
    {
      "cell_type": "markdown",
      "source": [
        "The return statement in a Python acts serves several various purposes:\n",
        "\n",
        "Exiting a Function: This allows a function to exit and return control to the calling code.\n",
        "Returning Values: It specified the value that the function will output when it is called. This value can be assigned to a variable or used directly in expressions.\n",
        "Multiple Return Points: A function can have multiple return statements, allowing it to return different values based on conditions."
      ],
      "metadata": {
        "id": "WEAHm32GBlZ3"
      }
    },
    {
      "cell_type": "code",
      "source": [
        "def square(number):\n",
        "    \"\"\"Returns the square of the given number.\"\"\"\n",
        "    return number ** 2  # Returns the square of 'number'\n",
        "\n",
        "# Calling the function and storing the returned value\n",
        "result = square(9)\n",
        "\n",
        "print(result)  # Output: 81\n"
      ],
      "metadata": {
        "colab": {
          "base_uri": "https://localhost:8080/"
        },
        "id": "NZERWCfJB4hC",
        "outputId": "6d7fe2fe-3576-40eb-93b4-f37af50865c5"
      },
      "execution_count": 10,
      "outputs": [
        {
          "output_type": "stream",
          "name": "stdout",
          "text": [
            "81\n"
          ]
        }
      ]
    },
    {
      "cell_type": "markdown",
      "source": [
        "5. What are iterators in Python and how do they differ from iterables?"
      ],
      "metadata": {
        "id": "6BSsBgu6CGXB"
      }
    },
    {
      "cell_type": "markdown",
      "source": [
        "Definition: An iterator is an object which represents a data stream and allows one to traverse through all the elements of an iterable one at a time. This  keeps track of its current position.\n",
        "How It Works: Iterators implement two methods: __iter__() (which returns the iterator object itself) and __next__() (which returns the next element in the stream). When there are no more elements to return, __next__() raises a StopIteration exception."
      ],
      "metadata": {
        "id": "AQP29QwLCjp3"
      }
    },
    {
      "cell_type": "code",
      "source": [
        "my_list = [5, 6, 7]\n",
        "my_iterator = iter(my_list)  # Creating an iterator from the list\n",
        "\n",
        "print(next(my_iterator))  # Output: 5\n",
        "print(next(my_iterator))  # Output: 6\n",
        "print(next(my_iterator))  # Output: 7\n",
        "# print(next(my_iterator))  # Uncommenting this line raises StopIteration\n"
      ],
      "metadata": {
        "colab": {
          "base_uri": "https://localhost:8080/"
        },
        "id": "zgj77b6bCybS",
        "outputId": "f637789f-f67e-48b2-a0b5-5e4912362e42"
      },
      "execution_count": 11,
      "outputs": [
        {
          "output_type": "stream",
          "name": "stdout",
          "text": [
            "5\n",
            "6\n",
            "7\n"
          ]
        }
      ]
    },
    {
      "cell_type": "markdown",
      "source": [
        "Definition: An iterable is any important Python object which can return its elements one at a time. This includes data structures like lists, tuples, dictionaries, sets, and strings.\n",
        "How It Works: Iterables implement the __iter__() method, which returns an iterator object. This means that you can use a for-loop or functions like list(), sum(), or any() to iterate over them.\n",
        "Examples of Iterables:\n",
        "Lists: my_list = [10, 20, 30]\n",
        "Tuples: my_tuple = (10, 20, 30)\n",
        "Strings: my_string = \"hello\"\n",
        "Dictionaries: my_dict = {\"a\": 10, \"b\": 2}\n",
        "Sets: my_set = {10, 20, 30}"
      ],
      "metadata": {
        "id": "c9YT9P5GDEfM"
      }
    },
    {
      "cell_type": "markdown",
      "source": [
        "6. Explain the concept of generators in Python and how they are defined."
      ],
      "metadata": {
        "id": "G0VS_xYVDWlO"
      }
    },
    {
      "cell_type": "markdown",
      "source": [
        "Definition of Generators\n",
        "Generators are a type of iterable, like tuples and lists, but they do not store their contents in memory. Instead, they generate the values on-the-fly as you iterate over them.\n",
        "The ways generators defined:\n",
        "Generators use the yield keyword instead of return. When a generator function is called, it does not execute the immediate code; instead, it returns a generator object. The code inside the function runs only when you iterate over the generator or explicitly call next() on it."
      ],
      "metadata": {
        "id": "f73qsW4lDfmg"
      }
    },
    {
      "cell_type": "code",
      "source": [
        "def count_up_to(n):\n",
        "    \"\"\" Generator function that counts up to n.\"\"\"\n",
        "    count = 2\n",
        "    while count <= n:\n",
        "        yield count  # Yield the current count and pause execution\n",
        "        count += 1   # Increment the count\n",
        "\n",
        "# Creating a generator object\n",
        "counter = count_up_to(5)\n",
        "\n",
        "# Iterating over the generator\n",
        "for number in counter:\n",
        "    print(number)\n"
      ],
      "metadata": {
        "colab": {
          "base_uri": "https://localhost:8080/"
        },
        "id": "sqfVfFZkD0iH",
        "outputId": "c2a9520d-aa4d-448f-82c6-431b04543783"
      },
      "execution_count": 12,
      "outputs": [
        {
          "output_type": "stream",
          "name": "stdout",
          "text": [
            "2\n",
            "3\n",
            "4\n",
            "5\n"
          ]
        }
      ]
    },
    {
      "cell_type": "markdown",
      "source": [
        "7. What are the advantages of using generators over regular functions?"
      ],
      "metadata": {
        "id": "3ts_hjn3EHHN"
      }
    },
    {
      "cell_type": "markdown",
      "source": [
        "Generators compute their values only when requested. This means they do not store the entire sequence in memory, which is particularly beneficial when working with large datasets.\n",
        "Generators can significantly reduce memory usage compared to using lists or other data structures that store all elements in memory.\n",
        "Since generators produce values one at a time, the initial execution time can be lesser than that of a regular function that constructs a complete list upfront.\n",
        "For large sequences, the overhead of maintaining a complete list can lead to performance bottlenecks. Generators can alleviate this by yielding one value at a time.\n",
        "The use of yield makes the code clearer and easier to follow compared to building a list and returning it."
      ],
      "metadata": {
        "id": "bADbuPEKEJCA"
      }
    },
    {
      "cell_type": "code",
      "source": [
        "# Generator for Fibonacci numbers\n",
        "def fibonacci(p):\n",
        "    m, n = 2, 3\n",
        "    for _ in range(p):\n",
        "        yield n\n",
        "        m, n = n, m + n\n",
        "\n",
        "# Using the generator\n",
        "for num in fibonacci(10):\n",
        "    print(num)\n"
      ],
      "metadata": {
        "colab": {
          "base_uri": "https://localhost:8080/"
        },
        "id": "jEMf6snEExNf",
        "outputId": "482fb95d-e031-4f58-d8ae-e48ba31f4c5f"
      },
      "execution_count": 13,
      "outputs": [
        {
          "output_type": "stream",
          "name": "stdout",
          "text": [
            "3\n",
            "5\n",
            "8\n",
            "13\n",
            "21\n",
            "34\n",
            "55\n",
            "89\n",
            "144\n",
            "233\n"
          ]
        }
      ]
    },
    {
      "cell_type": "markdown",
      "source": [
        "8. What is a lambda function in Python and when is it typically used?"
      ],
      "metadata": {
        "id": "0D7U4DXoFTJP"
      }
    },
    {
      "cell_type": "markdown",
      "source": [
        " Lambda function in Python is a small anonymous function that is defined using the lambda keyword. It can take any number of arguments but has a single expression, which is evaluated and returned. Lambda functions are often used when you need a quick, throwaway function without formally defining it with a def statement.\n",
        " Mainly, Lambda functions are typically used in situations where you need a simple function for a short period and don't want to formally define it. Common use cases include:\n",
        "\n",
        "Sorting: When using functions like sort(), lambda functions can specify custom sorting criteria.\n",
        "Functional Programming: When working with higher-order functions like map(), filter(), and reduce(), lambda functions are often used to define the transformation or filtering criteria.\n",
        "Callbacks: In GUI programming or event-driven programming, where you need to define a function to be called in response to an event."
      ],
      "metadata": {
        "id": "4MyK4srAFVFc"
      }
    },
    {
      "cell_type": "code",
      "source": [
        "# Lambda function to add two numbers\n",
        "add = lambda x, y: x + y\n",
        "result = add(8, 10)\n",
        "print(result)  # Output: 18\n"
      ],
      "metadata": {
        "colab": {
          "base_uri": "https://localhost:8080/"
        },
        "id": "UbID1071FoDy",
        "outputId": "ad98ed70-e5b2-472b-8407-3581ba24f0e6"
      },
      "execution_count": 14,
      "outputs": [
        {
          "output_type": "stream",
          "name": "stdout",
          "text": [
            "18\n"
          ]
        }
      ]
    },
    {
      "cell_type": "markdown",
      "source": [
        "9. Explain the purpose and usage of the map() function in Python."
      ],
      "metadata": {
        "id": "LgnFUimfF1kB"
      }
    },
    {
      "cell_type": "markdown",
      "source": [
        "Main purpose of using map()\n",
        "Transform Data: map() is used to apply a transformation to each element in an iterable, which can simplify the code needed for such operations.\n",
        "Functional Programming: It promotes a functional programming style, where you can work with functions as first-class objects.\n"
      ],
      "metadata": {
        "id": "248RGgdGF7s_"
      }
    },
    {
      "cell_type": "code",
      "source": [
        "def double(x):\n",
        "    return x * 5\n",
        "\n",
        "numbers = [1, 2, 3, 4, 5]\n",
        "doubled_numbers = map(double, numbers)  # Apply the double function\n",
        "\n",
        "# Convert the map object to a list\n",
        "print(list(doubled_numbers))  # Output: [5, 10, 15, 20, 25]\n",
        "\n"
      ],
      "metadata": {
        "colab": {
          "base_uri": "https://localhost:8080/"
        },
        "id": "05ZzWBfFGH2q",
        "outputId": "09500c03-fc1e-48f8-ac56-4d81761f24d3"
      },
      "execution_count": 16,
      "outputs": [
        {
          "output_type": "stream",
          "name": "stdout",
          "text": [
            "[5, 10, 15, 20, 25]\n"
          ]
        }
      ]
    },
    {
      "cell_type": "markdown",
      "source": [
        "10. What is the difference between map(), reduce(), and filter() functions in Python?\n"
      ],
      "metadata": {
        "id": "8EB5x57wGaX_"
      }
    },
    {
      "cell_type": "code",
      "source": [
        "#map()\n",
        "# Purpose: The map() function applies a given function to every item in an iterable (like a list or tuple) and returns a new iterable (a map object) containing the results.\n",
        "#Use Case: It is typically used when you want to transform or modify each element of an iterable.\n",
        "numbers = [1, 2, 3, 4, 5]\n",
        "squared_numbers = map(lambda x: x ** 2, numbers)\n",
        "print(list(squared_numbers))  # Output: [1, 4, 9, 16, 25]\n"
      ],
      "metadata": {
        "colab": {
          "base_uri": "https://localhost:8080/"
        },
        "id": "5vvYgqsNGmOk",
        "outputId": "4e8d9d86-2b5c-4fb8-c51c-76ed3db1b9f7"
      },
      "execution_count": 17,
      "outputs": [
        {
          "output_type": "stream",
          "name": "stdout",
          "text": [
            "[1, 4, 9, 16, 25]\n"
          ]
        }
      ]
    },
    {
      "cell_type": "code",
      "source": [
        "#reduce()\n",
        "# The reduce() function from the functools module applies a rolling computation to sequential pairs of values in an iterable, effectively reducing the iterable to a single cumulative value.\n",
        "#Use Case: It is often used for operations that combine elements, such as summing a list or multiplying all elements together.\n",
        "from functools import reduce\n",
        "\n",
        "numbers = [2, 2, 4, 4]\n",
        "product = reduce(lambda x, y: x * y, numbers)\n",
        "print(product)  # Output: 64 (2*2*4*4)\n"
      ],
      "metadata": {
        "colab": {
          "base_uri": "https://localhost:8080/"
        },
        "id": "HHcCvy7jG1qJ",
        "outputId": "0b8f54b9-0fbf-49a5-c29d-4da42ed386bf"
      },
      "execution_count": 19,
      "outputs": [
        {
          "output_type": "stream",
          "name": "stdout",
          "text": [
            "64\n"
          ]
        }
      ]
    },
    {
      "cell_type": "code",
      "source": [
        "#The filter() function creates a new iterable from those elements of the original iterable for which a given function returns True.\n",
        "#Use Case: It is used when you want to filter out elements from an iterable based on a condition.\n",
        "numbers = [1, 2, 3, 4, 8]\n",
        "even_numbers = filter(lambda x: x % 2 == 0, numbers)\n",
        "print(list(even_numbers))  # Output: [2, 4, 8]\n"
      ],
      "metadata": {
        "colab": {
          "base_uri": "https://localhost:8080/"
        },
        "id": "IKIffAb2HNJS",
        "outputId": "e770d18c-760e-4072-a949-82224b7dd4e2"
      },
      "execution_count": 21,
      "outputs": [
        {
          "output_type": "stream",
          "name": "stdout",
          "text": [
            "[2, 4, 8]\n"
          ]
        }
      ]
    },
    {
      "cell_type": "markdown",
      "source": [
        "11. Using pen & Paper write the internal mechanism for sum operation using  reduce function on this given\n"
      ],
      "metadata": {
        "id": "aXXaAO68RkBv"
      }
    },
    {
      "cell_type": "markdown",
      "source": [],
      "metadata": {
        "id": "gQrByKcoR8g5"
      }
    },
    {
      "cell_type": "markdown",
      "source": [
        "Practical Question"
      ],
      "metadata": {
        "id": "x2Amcfe7KQUo"
      }
    },
    {
      "cell_type": "markdown",
      "source": [
        "1. Write a Python function that takes a list of numbers as input and returns the sum of all even numbers in\n",
        "the list."
      ],
      "metadata": {
        "id": "sA01rRrCKTDN"
      }
    },
    {
      "cell_type": "code",
      "source": [
        "def sum_of_even_numbers(numbers):\n",
        "    \"\"\"Returns the sum of all even numbers in the given list.\"\"\"\n",
        "    # Initialize a variable to hold the sum of even numbers\n",
        "    even_sum = 0\n",
        "\n",
        "    # Iterate through each number in the list\n",
        "    for num in numbers:\n",
        "        # Check if the number is even\n",
        "        if num % 2 == 0:\n",
        "            even_sum += num  # Add the even number to the sum\n",
        "\n",
        "    return even_sum  # Return the total sum of even numbers\n",
        "\n",
        "# Example usage:\n",
        "numbers_list = [4, 5, 6, 7, 8, 9]\n",
        "result = sum_of_even_numbers(numbers_list)\n",
        "print(\"The sum of even numbers is:\", result)  # Output: The sum of even numbers is: 18\n"
      ],
      "metadata": {
        "colab": {
          "base_uri": "https://localhost:8080/"
        },
        "id": "iyh6vB-nKZqC",
        "outputId": "baa16d5b-606b-472d-a416-865cb7716a02"
      },
      "execution_count": 22,
      "outputs": [
        {
          "output_type": "stream",
          "name": "stdout",
          "text": [
            "The sum of even numbers is: 18\n"
          ]
        }
      ]
    },
    {
      "cell_type": "markdown",
      "source": [
        "2. Create a Python function that accepts a string and returns the reverse of that string."
      ],
      "metadata": {
        "id": "7LkQecYQKnEq"
      }
    },
    {
      "cell_type": "code",
      "source": [
        "def reverse_string(input_string):\n",
        "    \"\"\"Returns the reverse of the given string.\"\"\"\n",
        "    return input_string[::-1]  # Use slicing to reverse the string\n",
        "\n",
        "# Example usage:\n",
        "original_string = \"Bright, Future!\"\n",
        "reversed_string = reverse_string(original_string)\n",
        "print(\"Original String:\", original_string)  # Output: Bright, Future!\n",
        "print(\"Reversed String:\", reversed_string)  # Output: !erutuF ,thgirB\n"
      ],
      "metadata": {
        "colab": {
          "base_uri": "https://localhost:8080/"
        },
        "id": "r1d6Tk2TKufn",
        "outputId": "158c5a4c-f1f9-4a4c-c8e9-4d370e149c29"
      },
      "execution_count": 23,
      "outputs": [
        {
          "output_type": "stream",
          "name": "stdout",
          "text": [
            "Original String: Bright, Future!\n",
            "Reversed String: !erutuF ,thgirB\n"
          ]
        }
      ]
    },
    {
      "cell_type": "markdown",
      "source": [
        "3. Implement a Python function that takes a list of integers and returns a new list containing the squares of\n",
        "each number"
      ],
      "metadata": {
        "id": "jnfAIbSCK-LG"
      }
    },
    {
      "cell_type": "code",
      "source": [
        "def square_numbers(numbers):\n",
        "    \"\"\"Returns a list of the squares of the given integers.\"\"\"\n",
        "    # Using list comprehension to create a new list of squared numbers\n",
        "    squared_numbers = [num ** 2 for num in numbers]\n",
        "    return squared_numbers\n",
        "\n",
        "# Example usage:\n",
        "input_list = [2, 13, 6, 12]\n",
        "squared_list = square_numbers(input_list)\n",
        "print(\"Squared numbers:\", squared_list)  # Output: Squared numbers: [4, 169, 36, 144]\n"
      ],
      "metadata": {
        "colab": {
          "base_uri": "https://localhost:8080/"
        },
        "id": "iHnBXYocLIC9",
        "outputId": "255aa6b0-acd9-4887-9cea-f9e32d93bdfd"
      },
      "execution_count": 24,
      "outputs": [
        {
          "output_type": "stream",
          "name": "stdout",
          "text": [
            "Squared numbers: [4, 169, 36, 144]\n"
          ]
        }
      ]
    },
    {
      "cell_type": "markdown",
      "source": [
        "4. Write a Python function that checks if a given number is prime or not from 1 to 200."
      ],
      "metadata": {
        "id": "-QB6leTbLXFF"
      }
    },
    {
      "cell_type": "code",
      "source": [
        "def is_prime(num):\n",
        "    \"\"\"Checks if a given number is prime.\"\"\"\n",
        "    if num < 1 or num > 200:\n",
        "        return f\"The number {num} is out of the valid range (1-200).\"\n",
        "    if num <= 1:\n",
        "        return False  # Numbers less than 2 are not prime\n",
        "    for i in range(2, int(num**0.5) + 1):\n",
        "        if num % i == 0:\n",
        "            return False  # If divisible by any number other than 1 and itself\n",
        "    return True  # If no divisors were found, it's prime\n",
        "\n",
        "# Example usage:\n",
        "for number in range(1, 201):\n",
        "    if is_prime(number):\n",
        "        print(f\"{number} is a prime number.\")\n"
      ],
      "metadata": {
        "colab": {
          "base_uri": "https://localhost:8080/"
        },
        "id": "Ft32-6TMLfy6",
        "outputId": "09b93e05-4f04-4a3e-bb51-99f406b3af2a"
      },
      "execution_count": 25,
      "outputs": [
        {
          "output_type": "stream",
          "name": "stdout",
          "text": [
            "2 is a prime number.\n",
            "3 is a prime number.\n",
            "5 is a prime number.\n",
            "7 is a prime number.\n",
            "11 is a prime number.\n",
            "13 is a prime number.\n",
            "17 is a prime number.\n",
            "19 is a prime number.\n",
            "23 is a prime number.\n",
            "29 is a prime number.\n",
            "31 is a prime number.\n",
            "37 is a prime number.\n",
            "41 is a prime number.\n",
            "43 is a prime number.\n",
            "47 is a prime number.\n",
            "53 is a prime number.\n",
            "59 is a prime number.\n",
            "61 is a prime number.\n",
            "67 is a prime number.\n",
            "71 is a prime number.\n",
            "73 is a prime number.\n",
            "79 is a prime number.\n",
            "83 is a prime number.\n",
            "89 is a prime number.\n",
            "97 is a prime number.\n",
            "101 is a prime number.\n",
            "103 is a prime number.\n",
            "107 is a prime number.\n",
            "109 is a prime number.\n",
            "113 is a prime number.\n",
            "127 is a prime number.\n",
            "131 is a prime number.\n",
            "137 is a prime number.\n",
            "139 is a prime number.\n",
            "149 is a prime number.\n",
            "151 is a prime number.\n",
            "157 is a prime number.\n",
            "163 is a prime number.\n",
            "167 is a prime number.\n",
            "173 is a prime number.\n",
            "179 is a prime number.\n",
            "181 is a prime number.\n",
            "191 is a prime number.\n",
            "193 is a prime number.\n",
            "197 is a prime number.\n",
            "199 is a prime number.\n"
          ]
        }
      ]
    },
    {
      "cell_type": "markdown",
      "source": [
        "5. Create an iterator class in Python that generates the Fibonacci sequence up to a specified number of\n",
        "terms."
      ],
      "metadata": {
        "id": "CI8vAcPTLnbx"
      }
    },
    {
      "cell_type": "code",
      "source": [
        "class FibonacciIterator:\n",
        "    \"\"\"An iterator class that generates the Fibonacci sequence.\"\"\"\n",
        "\n",
        "    def __init__(self, n):\n",
        "        \"\"\"Initialize the iterator with the number of terms.\"\"\"\n",
        "        self.n = n  # Total number of terms\n",
        "        self.a, self.b = 0, 1  # Initial values for the Fibonacci sequence\n",
        "        self.count = 0  # Counter for the number of terms generated\n",
        "\n",
        "    def __iter__(self):\n",
        "        \"\"\"Return the iterator object itself.\"\"\"\n",
        "        return self\n",
        "\n",
        "    def __next__(self):\n",
        "        \"\"\"Return the next Fibonacci number in the sequence.\"\"\"\n",
        "        if self.count < self.n:\n",
        "            # Return the current Fibonacci number\n",
        "            current = self.a\n",
        "            # Update a and b to the next Fibonacci numbers\n",
        "            self.a, self.b = self.b, self.a + self.b\n",
        "            self.count += 1  # Increment the count\n",
        "            return current\n",
        "        else:\n",
        "            raise StopIteration  # Stop iteration when n terms are generated\n",
        "\n",
        "# Example usage:\n",
        "n_terms = 10  # Specify the number of terms in the Fibonacci sequence\n",
        "fibonacci_iterator = FibonacciIterator(n_terms)\n",
        "\n",
        "print(f\"Fibonacci sequence up to {n_terms} terms:\")\n",
        "for number in fibonacci_iterator:\n",
        "    print(number)\n"
      ],
      "metadata": {
        "colab": {
          "base_uri": "https://localhost:8080/"
        },
        "id": "SLnVcwguLoej",
        "outputId": "94e41189-ab3b-4e61-bf39-a5f8e0fca262"
      },
      "execution_count": 26,
      "outputs": [
        {
          "output_type": "stream",
          "name": "stdout",
          "text": [
            "Fibonacci sequence up to 10 terms:\n",
            "0\n",
            "1\n",
            "1\n",
            "2\n",
            "3\n",
            "5\n",
            "8\n",
            "13\n",
            "21\n",
            "34\n"
          ]
        }
      ]
    },
    {
      "cell_type": "markdown",
      "source": [
        "6. Write a generator function in Python that yields the powers of 2 up to a given exponent.\n",
        "\n"
      ],
      "metadata": {
        "id": "bV395YiVLztT"
      }
    },
    {
      "cell_type": "code",
      "source": [
        "def powers_of_two(max_exponent):\n",
        "    \"\"\"Generator that yields powers of 2 up to the given exponent.\"\"\"\n",
        "    for exponent in range(max_exponent + 1):\n",
        "        yield 2 ** exponent  # Yielding the power of 2\n",
        "\n",
        "# Example usage:\n",
        "max_exponent = 5 # Specify the maximum exponent\n",
        "print(f\"Powers of 2 up to 2^{max_exponent}:\")\n",
        "for power in powers_of_two(max_exponent):\n",
        "    print(power)\n"
      ],
      "metadata": {
        "colab": {
          "base_uri": "https://localhost:8080/"
        },
        "id": "dNa1ltobL0jz",
        "outputId": "2be6dea6-b6f9-4e76-f0dc-934a0dfc69ce"
      },
      "execution_count": 28,
      "outputs": [
        {
          "output_type": "stream",
          "name": "stdout",
          "text": [
            "Powers of 2 up to 2^5:\n",
            "1\n",
            "2\n",
            "4\n",
            "8\n",
            "16\n",
            "32\n"
          ]
        }
      ]
    },
    {
      "cell_type": "markdown",
      "source": [
        "\n",
        "7. Implement a generator function that reads a file line by line and yields each line as a string."
      ],
      "metadata": {
        "id": "eKS7JUuIMAaC"
      }
    },
    {
      "cell_type": "code",
      "source": [
        "def read_file_lines(file_path):\n",
        "    \"\"\"Generator that yields each line from the specified file.\"\"\"\n",
        "    with open(file_path, 'r') as file:  # Open the file in read mode\n",
        "        for line in file:\n",
        "            yield line.strip()  # Yield each line, stripping newline characters\n",
        "\n",
        "# Example usage:\n",
        "file_path = 'example.txt'  # Specify the path to your file\n",
        "try:\n",
        "    print(\"Reading lines from the file:\")\n",
        "    for line in read_file_lines(file_path):\n",
        "        print(line)  # Print each line from the file\n",
        "except FileNotFoundError:\n",
        "    print(f\"The file {file_path} does not exist.\")\n"
      ],
      "metadata": {
        "colab": {
          "base_uri": "https://localhost:8080/"
        },
        "id": "B2R-gBaAMCAZ",
        "outputId": "d9cf7999-aef2-4cc8-f527-47e482863703"
      },
      "execution_count": 29,
      "outputs": [
        {
          "output_type": "stream",
          "name": "stdout",
          "text": [
            "Reading lines from the file:\n",
            "The file example.txt does not exist.\n"
          ]
        }
      ]
    },
    {
      "cell_type": "markdown",
      "source": [
        "8. Use a lambda function in Python to sort a list of tuples based on the second element of each tuple."
      ],
      "metadata": {
        "id": "H-Ih6hjVMQX5"
      }
    },
    {
      "cell_type": "code",
      "source": [
        "# List of tuples\n",
        "data = [(1, 'mango'), (2, 'papaya'), (3, 'banana'), (4, 'date')]\n",
        "\n",
        "# Sorting the list of tuples based on the second element of each tuple\n",
        "sorted_data = sorted(data, key=lambda x: x[1])\n",
        "\n",
        "# Print the sorted list\n",
        "print(\"Sorted list based on the second element of each tuple:\")\n",
        "print(sorted_data)\n"
      ],
      "metadata": {
        "colab": {
          "base_uri": "https://localhost:8080/"
        },
        "id": "jKha3OyFMiVn",
        "outputId": "2dee1c6c-7540-4f12-890e-7d27955a21ed"
      },
      "execution_count": 30,
      "outputs": [
        {
          "output_type": "stream",
          "name": "stdout",
          "text": [
            "Sorted list based on the second element of each tuple:\n",
            "[(3, 'banana'), (4, 'date'), (1, 'mango'), (2, 'papaya')]\n"
          ]
        }
      ]
    },
    {
      "cell_type": "markdown",
      "source": [
        "9. Write a Python program that uses map() to convert a list of temperatures from Celsius to Fahrenheit."
      ],
      "metadata": {
        "id": "zgrmWWlHMsZU"
      }
    },
    {
      "cell_type": "code",
      "source": [
        "# Function to convert Celsius to Fahrenheit\n",
        "def celsius_to_fahrenheit(celsius):\n",
        "    return (celsius * 9/5) + 32\n",
        "\n",
        "# List of temperatures in Celsius\n",
        "celsius_temperatures = [0, 20, 37, 100, -40]\n",
        "\n",
        "# Using map() to convert the list of Celsius temperatures to Fahrenheit\n",
        "fahrenheit_temperatures = list(map(celsius_to_fahrenheit, celsius_temperatures))\n",
        "\n",
        "# Print the converted temperatures\n",
        "print(\"Celsius temperatures:\", celsius_temperatures)\n",
        "print(\"Fahrenheit temperatures:\", fahrenheit_temperatures)\n"
      ],
      "metadata": {
        "colab": {
          "base_uri": "https://localhost:8080/"
        },
        "id": "R0lTfRnBM8R5",
        "outputId": "3a573141-4b3a-4240-fe22-72f61c992bc4"
      },
      "execution_count": 31,
      "outputs": [
        {
          "output_type": "stream",
          "name": "stdout",
          "text": [
            "Celsius temperatures: [0, 20, 37, 100, -40]\n",
            "Fahrenheit temperatures: [32.0, 68.0, 98.6, 212.0, -40.0]\n"
          ]
        }
      ]
    },
    {
      "cell_type": "markdown",
      "source": [
        "10. Create a Python program that uses filter() to remove all the vowels from a given string.\n"
      ],
      "metadata": {
        "id": "hbaFK40ONTM7"
      }
    },
    {
      "cell_type": "code",
      "source": [
        "def is_not_vowel(char):\n",
        "    \"\"\"Check if the character is not a vowel.\"\"\"\n",
        "    return char.lower() not in 'aeiou'\n",
        "\n",
        "def remove_vowels(input_string):\n",
        "    \"\"\"Remove all vowels from the given string.\"\"\"\n",
        "    # Use filter to keep only non-vowel characters\n",
        "    filtered_chars = filter(is_not_vowel, input_string)\n",
        "    # Join the filtered characters back into a string\n",
        "    return ''.join(filtered_chars)\n",
        "\n",
        "# Example usage\n",
        "input_string = \"Hello, World!\"\n",
        "result = remove_vowels(input_string)\n",
        "\n",
        "# Print the result\n",
        "print(\"Original string:\", input_string)\n",
        "print(\"String after removing vowels:\", result)\n"
      ],
      "metadata": {
        "colab": {
          "base_uri": "https://localhost:8080/"
        },
        "id": "OcmRGG66NXs6",
        "outputId": "0ed75390-06e9-44ee-8089-7d1b1548e67d"
      },
      "execution_count": 32,
      "outputs": [
        {
          "output_type": "stream",
          "name": "stdout",
          "text": [
            "Original string: Hello, World!\n",
            "String after removing vowels: Hll, Wrld!\n"
          ]
        }
      ]
    }
  ]
}